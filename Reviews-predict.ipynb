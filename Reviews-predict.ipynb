{
 "cells": [
  {
   "cell_type": "code",
   "execution_count": 5,
   "id": "de52a86e",
   "metadata": {},
   "outputs": [],
   "source": [
    "import pandas as pd\n",
    "from sklearn.model_selection import train_test_split\n",
    "from sklearn.ensemble import RandomForestClassifier\n",
    "from sklearn.metrics import accuracy_score\n",
    "\n",
    "# Load your dataset\n",
    "data = pd.read_csv('s3://mynewreviews/updated_Reviews.csv')\n",
    "\n"
   ]
  },
  {
   "cell_type": "code",
   "execution_count": 6,
   "id": "71504e14",
   "metadata": {},
   "outputs": [
    {
     "name": "stdout",
     "output_type": "stream",
     "text": [
      "Number of rows: 500\n",
      "Number of columns: 10\n"
     ]
    }
   ],
   "source": [
    "# Get the number of rows and columns\n",
    "print(\"Number of rows:\", data.shape[0])  # Number of rows\n",
    "print(\"Number of columns:\", data.shape[1])  # Number of columns\n"
   ]
  },
  {
   "cell_type": "code",
   "execution_count": 7,
   "id": "cec7ead7",
   "metadata": {},
   "outputs": [
    {
     "name": "stdout",
     "output_type": "stream",
     "text": [
      "Memory usage of the dataset: 258093 bytes\n"
     ]
    }
   ],
   "source": [
    "# Get memory usage\n",
    "print(\"Memory usage of the dataset:\", data.memory_usage(deep=True).sum(), \"bytes\")\n"
   ]
  },
  {
   "cell_type": "code",
   "execution_count": 8,
   "id": "23d498a4",
   "metadata": {},
   "outputs": [
    {
     "name": "stdout",
     "output_type": "stream",
     "text": [
      "<class 'pandas.core.frame.DataFrame'>\n",
      "RangeIndex: 500 entries, 0 to 499\n",
      "Data columns (total 10 columns):\n",
      " #   Column                  Non-Null Count  Dtype  \n",
      "---  ------                  --------------  -----  \n",
      " 0   id                      500 non-null    int64  \n",
      " 1   productid               500 non-null    object \n",
      " 2   userid                  500 non-null    object \n",
      " 3   profilename             500 non-null    object \n",
      " 4   helpfulnessnumerator    498 non-null    float64\n",
      " 5   helpfulnessdenominator  500 non-null    int64  \n",
      " 6   score                   500 non-null    int64  \n",
      " 7   time                    500 non-null    int64  \n",
      " 8   summary                 500 non-null    object \n",
      " 9   text                    500 non-null    object \n",
      "dtypes: float64(1), int64(4), object(5)\n",
      "memory usage: 252.0 KB\n"
     ]
    }
   ],
   "source": [
    "# Get detailed info about the dataset\n",
    "data.info(memory_usage='deep')\n"
   ]
  },
  {
   "cell_type": "code",
   "execution_count": 9,
   "id": "caab6258",
   "metadata": {},
   "outputs": [
    {
     "name": "stdout",
     "output_type": "stream",
     "text": [
      "id                          int64\n",
      "productid                  object\n",
      "userid                     object\n",
      "profilename                object\n",
      "helpfulnessnumerator      float64\n",
      "helpfulnessdenominator      int64\n",
      "score                       int64\n",
      "time                        int64\n",
      "summary                    object\n",
      "text                       object\n",
      "dtype: object\n",
      "    productid          userid                   profilename  \\\n",
      "0  B000UA0QIQ  A395BORC6FGVXV                          Karl   \n",
      "1  B0000CES0O  A2J0EIL4HFJ4PP                 Landscape guy   \n",
      "2  B0000CAV3Y   A5HVN6DW5S9DF  \"L. J. Pizzuto \"\"Ladygrey\"\"\"   \n",
      "3  B0025U8ILG  A1GYEGLX3P2Y7P                Shala Kerrigan   \n",
      "4  B001GVISJM  A3KLWF6WQ5BNYO                Erica Neathery   \n",
      "\n",
      "                                             summary  \\\n",
      "0                                     Cough Medicine   \n",
      "1                                          Very good   \n",
      "2                        Natasha's cafe coffee beans   \n",
      "3  Can't beat this for convenience if you have teens   \n",
      "4                                         poor taste   \n",
      "\n",
      "                                                text  \n",
      "0  If you are looking for the secret ingredient i...  \n",
      "1  \"Product was delivered as promised. The seeds ...  \n",
      "2  The coffee beans were as discribed and of good...  \n",
      "3  \"I'm embarrassed a bit by how much of this we ...  \n",
      "4  I love eating them and they are good for watch...  \n"
     ]
    }
   ],
   "source": [
    "# Check the data types of the columns\n",
    "print(data.dtypes)\n",
    "\n",
    "# Display rows where non-numeric data might exist\n",
    "print(data.select_dtypes(include=['object']).head())\n"
   ]
  },
  {
   "cell_type": "code",
   "execution_count": 10,
   "id": "6d05ef1e",
   "metadata": {},
   "outputs": [
    {
     "name": "stdout",
     "output_type": "stream",
     "text": [
      "Requirement already satisfied: xgboost in /home/ec2-user/anaconda3/envs/python3/lib/python3.10/site-packages (2.1.2)\n",
      "Requirement already satisfied: numpy in /home/ec2-user/anaconda3/envs/python3/lib/python3.10/site-packages (from xgboost) (1.26.4)\n",
      "Requirement already satisfied: scipy in /home/ec2-user/anaconda3/envs/python3/lib/python3.10/site-packages (from xgboost) (1.14.1)\n",
      "Note: you may need to restart the kernel to use updated packages.\n"
     ]
    }
   ],
   "source": [
    "pip install xgboost"
   ]
  },
  {
   "cell_type": "code",
   "execution_count": 11,
   "id": "722f10dc",
   "metadata": {},
   "outputs": [
    {
     "name": "stdout",
     "output_type": "stream",
     "text": [
      "sagemaker.config INFO - Not applying SDK defaults from location: /etc/xdg/sagemaker/config.yaml\n",
      "sagemaker.config INFO - Not applying SDK defaults from location: /home/ec2-user/.config/sagemaker/config.yaml\n",
      "       id  productid  userid  profilename  helpfulnessnumerator  \\\n",
      "0       4         47     291          299                   3.0   \n",
      "1  126325          2     208          309                   2.0   \n",
      "2  126338          1     388           67                   0.0   \n",
      "3  126342        112      55          399                   0.0   \n",
      "4      17         89     333          233                   0.0   \n",
      "\n",
      "   helpfulnessdenominator  score        time  \\\n",
      "0                       3      2  1307923200   \n",
      "1                       2      4  1337558400   \n",
      "2                       0      4  1174608000   \n",
      "3                       0      4  1273622400   \n",
      "4                       0      2  1348099200   \n",
      "\n",
      "                                             summary  \\\n",
      "0                                     Cough Medicine   \n",
      "1                                          Very good   \n",
      "2                        Natasha's cafe coffee beans   \n",
      "3  Can't beat this for convenience if you have teens   \n",
      "4                                         poor taste   \n",
      "\n",
      "                                                text  \n",
      "0  If you are looking for the secret ingredient i...  \n",
      "1  \"Product was delivered as promised. The seeds ...  \n",
      "2  The coffee beans were as discribed and of good...  \n",
      "3  \"I'm embarrassed a bit by how much of this we ...  \n",
      "4  I love eating them and they are good for watch...  \n"
     ]
    },
    {
     "name": "stderr",
     "output_type": "stream",
     "text": [
      "/home/ec2-user/anaconda3/envs/python3/lib/python3.10/site-packages/xgboost/core.py:265: FutureWarning: Your system has an old version of glibc (< 2.28). We will stop supporting Linux distros with glibc older than 2.28 after **May 31, 2025**. Please upgrade to a recent Linux distro (with glibc 2.28+) to use future versions of XGBoost.\n",
      "Note: You have installed the 'manylinux2014' variant of XGBoost. Certain features such as GPU algorithms or federated learning are not available. To use these features, please upgrade to a recent Linux distro with glibc 2.28+, and install the 'manylinux_2_28' variant.\n",
      "  warnings.warn(\n"
     ]
    }
   ],
   "source": [
    "import pandas as pd\n",
    "import numpy as np\n",
    "import boto3\n",
    "import joblib\n",
    "import sagemaker\n",
    "from sagemaker.sklearn import SKLearnModel\n",
    "from sklearn.model_selection import train_test_split\n",
    "from sklearn.preprocessing import LabelEncoder\n",
    "from sklearn.feature_extraction.text import TfidfVectorizer\n",
    "from sklearn.ensemble import RandomForestClassifier\n",
    "from sklearn.linear_model import LogisticRegression\n",
    "from sklearn.svm import SVC\n",
    "from sklearn.neighbors import KNeighborsClassifier\n",
    "from xgboost import XGBClassifier\n",
    "from sklearn.metrics import classification_report, accuracy_score\n",
    "from sklearn.impute import SimpleImputer  # New import for handling missing values\n",
    "\n",
    "# Step 1: Load the dataset\n",
    "data = pd.read_csv('s3://mynewreviews/updated_Reviews.csv')\n",
    "\n",
    "# Step 2: Data Preprocessing\n",
    "# Label encode 'productid', 'userid', and 'profilename'\n",
    "label_encoder = LabelEncoder()\n",
    "data['productid'] = label_encoder.fit_transform(data['productid'])\n",
    "data['userid'] = label_encoder.fit_transform(data['userid'])\n",
    "data['profilename'] = label_encoder.fit_transform(data['profilename'])\n",
    "print(data.head())\n"
   ]
  },
  {
   "cell_type": "code",
   "execution_count": 12,
   "id": "f37dcfbb",
   "metadata": {},
   "outputs": [
    {
     "name": "stdout",
     "output_type": "stream",
     "text": [
      "       id  productid  userid  profilename  helpfulnessnumerator  \\\n",
      "0       4         47     291          299                   3.0   \n",
      "1  126325          2     208          309                   2.0   \n",
      "2  126338          1     388           67                   0.0   \n",
      "3  126342        112      55          399                   0.0   \n",
      "4      17         89     333          233                   0.0   \n",
      "\n",
      "   helpfulnessdenominator  score        time  \\\n",
      "0                       3      1  1307923200   \n",
      "1                       2      3  1337558400   \n",
      "2                       0      3  1174608000   \n",
      "3                       0      3  1273622400   \n",
      "4                       0      1  1348099200   \n",
      "\n",
      "                                             summary  \\\n",
      "0                                     Cough Medicine   \n",
      "1                                          Very good   \n",
      "2                        Natasha's cafe coffee beans   \n",
      "3  Can't beat this for convenience if you have teens   \n",
      "4                                         poor taste   \n",
      "\n",
      "                                                text  \n",
      "0  If you are looking for the secret ingredient i...  \n",
      "1  \"Product was delivered as promised. The seeds ...  \n",
      "2  The coffee beans were as discribed and of good...  \n",
      "3  \"I'm embarrassed a bit by how much of this we ...  \n",
      "4  I love eating them and they are good for watch...  \n"
     ]
    }
   ],
   "source": [
    "\n",
    "\n",
    "# Convert 'score' to numeric and ensure it's encoded from 0\n",
    "score_encoder = LabelEncoder()\n",
    "data['score'] = score_encoder.fit_transform(data['score'])  # This will shift class labels to [0, 1, 2, 3, 4]\n",
    "print(data.head())\n",
    "\n"
   ]
  },
  {
   "cell_type": "code",
   "execution_count": 13,
   "id": "7293754d",
   "metadata": {},
   "outputs": [
    {
     "name": "stdout",
     "output_type": "stream",
     "text": [
      "(500, 1000)\n"
     ]
    }
   ],
   "source": [
    "\n",
    "# Combine the text columns into a single text feature\n",
    "data['combined_text'] = data['summary'] + \" \" + data['text']\n",
    "\n",
    "# Apply TF-IDF Vectorization to the combined text\n",
    "tfidf = TfidfVectorizer(stop_words='english', max_features=1000)\n",
    "X_text = tfidf.fit_transform(data['combined_text'])\n",
    "joblib.dump(tfidf, 'tfidf_vectorizer.pkl')\n",
    "# Convert sparse matrix to dense matrix\n",
    "X_text_dense = X_text.toarray()\n",
    "print(X_text_dense.shape)\n",
    "\n"
   ]
  },
  {
   "cell_type": "code",
   "execution_count": 14,
   "id": "6895ac35",
   "metadata": {},
   "outputs": [
    {
     "name": "stdout",
     "output_type": "stream",
     "text": [
      "Training set size: (400, 1007)\n",
      "Test set size: (100, 1007)\n"
     ]
    }
   ],
   "source": [
    "\n",
    "# Combine TF-IDF features with other numerical features\n",
    "X_numerical = np.hstack([data.drop(columns=['score', 'summary', 'text', 'combined_text']).values, X_text_dense])\n",
    "\n",
    "# Features (X) and target (y)\n",
    "X = X_numerical\n",
    "y = data['score']\n",
    "\n",
    "# Step 3: Handle missing values (imputation)\n",
    "# Using SimpleImputer to fill missing values with the mean\n",
    "imputer = SimpleImputer(strategy='mean')\n",
    "X_imputed = imputer.fit_transform(X)\n",
    "\n",
    "# Step 4: Train-Test Split\n",
    "X_train, X_test, y_train, y_test = train_test_split(X_imputed, y, test_size=0.2, random_state=42)\n",
    "print(f\"Training set size: {X_train.shape}\")\n",
    "print(f\"Test set size: {X_test.shape}\")\n",
    "\n"
   ]
  },
  {
   "cell_type": "code",
   "execution_count": 15,
   "id": "8f3597af",
   "metadata": {},
   "outputs": [
    {
     "name": "stdout",
     "output_type": "stream",
     "text": [
      "\n",
      "Training Random Forest...\n",
      "Accuracy of Random Forest: 0.9800\n",
      "Classification report for Random Forest:\n",
      "              precision    recall  f1-score   support\n",
      "\n",
      "           0       1.00      1.00      1.00        14\n",
      "           1       1.00      1.00      1.00        17\n",
      "           2       0.95      0.95      0.95        20\n",
      "           3       1.00      0.96      0.98        25\n",
      "           4       0.96      1.00      0.98        24\n",
      "\n",
      "    accuracy                           0.98       100\n",
      "   macro avg       0.98      0.98      0.98       100\n",
      "weighted avg       0.98      0.98      0.98       100\n",
      "\n",
      "\n",
      "Training Logistic Regression...\n",
      "Accuracy of Logistic Regression: 0.9900\n",
      "Classification report for Logistic Regression:\n",
      "              precision    recall  f1-score   support\n",
      "\n",
      "           0       1.00      1.00      1.00        14\n",
      "           1       1.00      0.94      0.97        17\n",
      "           2       1.00      1.00      1.00        20\n",
      "           3       1.00      1.00      1.00        25\n",
      "           4       0.96      1.00      0.98        24\n",
      "\n",
      "    accuracy                           0.99       100\n",
      "   macro avg       0.99      0.99      0.99       100\n",
      "weighted avg       0.99      0.99      0.99       100\n",
      "\n",
      "\n",
      "Training K-Nearest Neighbors...\n",
      "Accuracy of K-Nearest Neighbors: 0.4900\n",
      "Classification report for K-Nearest Neighbors:\n",
      "              precision    recall  f1-score   support\n",
      "\n",
      "           0       0.32      0.57      0.41        14\n",
      "           1       0.39      0.41      0.40        17\n",
      "           2       0.33      0.35      0.34        20\n",
      "           3       0.38      0.20      0.26        25\n",
      "           4       0.96      0.92      0.94        24\n",
      "\n",
      "    accuracy                           0.49       100\n",
      "   macro avg       0.48      0.49      0.47       100\n",
      "weighted avg       0.50      0.49      0.48       100\n",
      "\n",
      "\n",
      "Training XGBoost...\n",
      "Accuracy of XGBoost: 0.9800\n",
      "Classification report for XGBoost:\n",
      "              precision    recall  f1-score   support\n",
      "\n",
      "           0       1.00      0.93      0.96        14\n",
      "           1       1.00      1.00      1.00        17\n",
      "           2       0.95      0.95      0.95        20\n",
      "           3       0.96      1.00      0.98        25\n",
      "           4       1.00      1.00      1.00        24\n",
      "\n",
      "    accuracy                           0.98       100\n",
      "   macro avg       0.98      0.98      0.98       100\n",
      "weighted avg       0.98      0.98      0.98       100\n",
      "\n"
     ]
    },
    {
     "data": {
      "text/plain": [
       "['best_model.pkl']"
      ]
     },
     "execution_count": 15,
     "metadata": {},
     "output_type": "execute_result"
    }
   ],
   "source": [
    "\n",
    "# Step 5: Initialize models for comparison\n",
    "models = {\n",
    "    'Random Forest': RandomForestClassifier(n_estimators=100),\n",
    "    'Logistic Regression': LogisticRegression(max_iter=1000),\n",
    "    'K-Nearest Neighbors': KNeighborsClassifier(),\n",
    "    'XGBoost': XGBClassifier(n_estimators=100)\n",
    "}\n",
    "\n",
    "# Step 6: Train and evaluate models\n",
    "best_model = None\n",
    "best_accuracy = 0\n",
    "\n",
    "for model_name, model in models.items():\n",
    "    print(f\"\\nTraining {model_name}...\")\n",
    "    model.fit(X_train, y_train)\n",
    "    \n",
    "    # Make predictions\n",
    "    y_pred = model.predict(X_test)\n",
    "    \n",
    "    # Accuracy score\n",
    "    accuracy = accuracy_score(y_test, y_pred)\n",
    "    print(f\"Accuracy of {model_name}: {accuracy:.4f}\")\n",
    "    \n",
    "    # Classification report\n",
    "    report = classification_report(y_test, y_pred)\n",
    "    print(f\"Classification report for {model_name}:\\n{report}\")\n",
    "    \n",
    "    # Track the best model\n",
    "    if accuracy > best_accuracy:\n",
    "        best_accuracy = accuracy\n",
    "        best_model = model\n",
    "\n",
    "# Step 7: Save the best model to a file\n",
    "joblib.dump(best_model, 'best_model.pkl')\n",
    "\n",
    "#"
   ]
  },
  {
   "cell_type": "code",
   "execution_count": 31,
   "id": "473c8e6b",
   "metadata": {},
   "outputs": [
    {
     "name": "stderr",
     "output_type": "stream",
     "text": [
      "Matplotlib is building the font cache; this may take a moment.\n"
     ]
    },
    {
     "data": {
      "image/png": "[encoded data removed]",
      "text/plain": [
       "<Figure size 800x500 with 1 Axes>"
      ]
     },
     "metadata": {},
     "output_type": "display_data"
    }
   ],
   "source": [
    "import matplotlib.pyplot as plt\n",
    "\n",
    "# Data for the models\n",
    "models = ['RF', 'LR', 'KNN', 'XGBoost']\n",
    "accuracy = [98, 99, 49, 98]\n",
    "\n",
    "# Plotting the bar chart\n",
    "plt.figure(figsize=(8, 5))\n",
    "plt.bar(models, accuracy, color=['blue', 'green', 'red', 'purple'])\n",
    "plt.title('Model Accuracy Comparison')\n",
    "plt.xlabel('Models')\n",
    "plt.ylabel('Accuracy (%)')\n",
    "plt.ylim(0, 100)\n",
    "plt.show()\n"
   ]
  },
  {
   "cell_type": "code",
   "execution_count": 16,
   "id": "c8e9dbdb",
   "metadata": {},
   "outputs": [
    {
     "name": "stdout",
     "output_type": "stream",
     "text": [
      "Model uploaded to S3 successfully.\n"
     ]
    }
   ],
   "source": [
    " #Step 8: Upload the model to S3\n",
    "bucket_name = 'mydeploy18'  # Updated to your S3 bucket\n",
    "s3 = boto3.client('s3')\n",
    "\n",
    "# Upload the model file to S3\n",
    "s3.upload_file('best_model.pkl', bucket_name, 'models/best_model.pkl')\n",
    "\n",
    "print(\"Model uploaded to S3 successfully.\")\n"
   ]
  },
  {
   "cell_type": "code",
   "execution_count": 17,
   "id": "bb5e418a",
   "metadata": {},
   "outputs": [
    {
     "name": "stdout",
     "output_type": "stream",
     "text": [
      "Created archive: best_model.tar.gz\n",
      "Model uploaded to s3://mydeploy18/models/best_model.tar.gz\n"
     ]
    }
   ],
   "source": [
    "import tarfile\n",
    "\n",
    "# Path to the model file\n",
    "model_file = 'best_model.pkl'\n",
    "archive_name = 'best_model.tar.gz'\n",
    "\n",
    "# Create the tar.gz archive\n",
    "with tarfile.open(archive_name, \"w:gz\") as tar:\n",
    "    tar.add(model_file, arcname=model_file)\n",
    "\n",
    "print(f\"Created archive: {archive_name}\")\n",
    "import boto3\n",
    "\n",
    "# Define S3 bucket name and the path where you want to store the model\n",
    "s3_bucket = 'mydeploy18'  # Replace with your actual S3 bucket name\n",
    "s3_model_path = 'models/best_model.tar.gz'\n",
    "\n",
    "# Initialize S3 client\n",
    "s3_client = boto3.client('s3')\n",
    "\n",
    "# Upload the model archive to S3\n",
    "s3_client.upload_file(archive_name, s3_bucket, s3_model_path)\n",
    "\n",
    "print(f\"Model uploaded to s3://{s3_bucket}/{s3_model_path}\")\n"
   ]
  },
  {
   "cell_type": "code",
   "execution_count": null,
   "id": "55e83b7b",
   "metadata": {},
   "outputs": [],
   "source": [
    "\n"
   ]
  },
  {
   "cell_type": "markdown",
   "id": "53a33554",
   "metadata": {},
   "source": [
    "DEPLOY MODEL"
   ]
  },
  {
   "cell_type": "code",
   "execution_count": 18,
   "id": "cedaae39",
   "metadata": {},
   "outputs": [
    {
     "name": "stdout",
     "output_type": "stream",
     "text": [
      "-----!Model deployed to endpoint sagemaker-scikit-learn-2024-11-20-12-57-37-100\n"
     ]
    }
   ],
   "source": [
    "import sagemaker\n",
    "from sagemaker.sklearn import SKLearnModel\n",
    "\n",
    "# Define the S3 bucket name where the model is stored\n",
    "mydeploy18 = \"mydeploy18\"  # Your actual S3 bucket name\n",
    "\n",
    "\n",
    "# Define the IAM role for SageMaker\n",
    "role = \"arn:aws:iam::194722417457:role/service-role/AmazonSageMaker-ExecutionRole-20241020T181073\" # Replace with your SageMaker IAM role ARN\n",
    "\n",
    "# Create a SageMaker session\n",
    "session = sagemaker.Session()\n",
    "\n",
    "# Deploy the model using SKLearnModel with `ml.t2.medium` instance type (Free Tier eligible)\n",
    "model = SKLearnModel(\n",
    "    model_data = f\"s3://{mydeploy18}/models/best_model.tar.gz\",  # Correct path to the model\n",
    "    role=role,\n",
    "    entry_point=\"inference.py\",  # The inference script you created\n",
    "    framework_version=\"0.23-1\"\n",
    ")\n",
    "\n",
    "# Deploy the model to an endpoint with Free Tier eligible instance type `ml.t2.medium`\n",
    "predictor = model.deploy(initial_instance_count=1, instance_type=\"ml.t2.medium\")\n",
    "\n",
    "print(f\"Model deployed to endpoint {predictor.endpoint_name}\")\n",
    "\n"
   ]
  },
  {
   "cell_type": "code",
   "execution_count": 24,
   "id": "148ff048",
   "metadata": {},
   "outputs": [
    {
     "name": "stdout",
     "output_type": "stream",
     "text": [
      "Endpoint Name: sagemaker-scikit-learn-2024-11-20-12-57-37-100\n"
     ]
    }
   ],
   "source": [
    "import boto3\n",
    "\n",
    "# Create a SageMaker client\n",
    "sagemaker_client = boto3.client('sagemaker')\n",
    "\n",
    "# List all endpoints\n",
    "response = sagemaker_client.list_endpoints()\n",
    "\n",
    "# Get the endpoint names\n",
    "endpoints = response['Endpoints']\n",
    "\n",
    "# Print the endpoint names\n",
    "for endpoint in endpoints:\n",
    "    print(f\"Endpoint Name: {endpoint['EndpointName']}\")\n"
   ]
  },
  {
   "cell_type": "code",
   "execution_count": 20,
   "id": "a862b2e9",
   "metadata": {},
   "outputs": [
    {
     "name": "stdout",
     "output_type": "stream",
     "text": [
      "Model Name: sagemaker-scikit-learn-2024-11-20-12-57-36-519\n"
     ]
    }
   ],
   "source": [
    "import boto3\n",
    "\n",
    "# Initialize SageMaker client\n",
    "sagemaker_client = boto3.client('sagemaker')\n",
    "\n",
    "# List all models\n",
    "models = sagemaker_client.list_models()\n",
    "for model in models['Models']:\n",
    "    print(\"Model Name:\", model['ModelName'])"
   ]
  },
  {
   "cell_type": "code",
   "execution_count": 25,
   "id": "512abf32",
   "metadata": {},
   "outputs": [
    {
     "name": "stdout",
     "output_type": "stream",
     "text": [
      "{'EndpointConfigName': 'sagemaker-scikit-learn-2024-11-20-12-57-37-100', 'EndpointConfigArn': 'arn:aws:sagemaker:ap-southeast-2:194722417457:endpoint-config/sagemaker-scikit-learn-2024-11-20-12-57-37-100', 'ProductionVariants': [{'VariantName': 'AllTraffic', 'ModelName': 'sagemaker-scikit-learn-2024-11-20-12-57-36-519', 'InitialInstanceCount': 1, 'InstanceType': 'ml.t2.medium', 'InitialVariantWeight': 1.0}], 'CreationTime': datetime.datetime(2024, 11, 20, 12, 57, 37, 290000, tzinfo=tzlocal()), 'EnableNetworkIsolation': False, 'ResponseMetadata': {'RequestId': '0d8bb1df-6c8c-4197-b1c0-3b3564e12613', 'HTTPStatusCode': 200, 'HTTPHeaders': {'x-amzn-requestid': '0d8bb1df-6c8c-4197-b1c0-3b3564e12613', 'content-type': 'application/x-amz-json-1.1', 'content-length': '459', 'date': 'Wed, 20 Nov 2024 13:05:45 GMT'}, 'RetryAttempts': 0}}\n"
     ]
    }
   ],
   "source": [
    "import boto3\n",
    "\n",
    "# Initialize SageMaker client\n",
    "sagemaker_client = boto3.client('sagemaker')\n",
    "\n",
    "# Get the endpoint configuration name from your endpoint description\n",
    "endpoint_name = \"sagemaker-scikit-learn-2024-11-20-12-57-37-100\"# Your actual endpoint name\n",
    "response = sagemaker_client.describe_endpoint(EndpointName=endpoint_name)\n",
    "\n",
    "# Get the endpoint configuration\n",
    "endpoint_config_name = response['EndpointConfigName']\n",
    "\n",
    "# Describe the endpoint configuration\n",
    "config_response = sagemaker_client.describe_endpoint_config(EndpointConfigName=endpoint_config_name)\n",
    "\n",
    "# Print the entire configuration response to understand its structure\n",
    "print(config_response)\n",
    "\n"
   ]
  },
  {
   "cell_type": "code",
   "execution_count": 26,
   "id": "9e15832f",
   "metadata": {},
   "outputs": [
    {
     "name": "stdout",
     "output_type": "stream",
     "text": [
      "{'EndpointName': 'sagemaker-scikit-learn-2024-11-20-12-57-37-100', 'EndpointArn': 'arn:aws:sagemaker:ap-southeast-2:194722417457:endpoint/sagemaker-scikit-learn-2024-11-20-12-57-37-100', 'EndpointConfigName': 'sagemaker-scikit-learn-2024-11-20-12-57-37-100', 'ProductionVariants': [{'VariantName': 'AllTraffic', 'DeployedImages': [{'SpecifiedImage': '783357654285.dkr.ecr.ap-southeast-2.amazonaws.com/sagemaker-scikit-learn:0.23-1-cpu-py3', 'ResolvedImage': '783357654285.dkr.ecr.ap-southeast-2.amazonaws.com/sagemaker-scikit-learn@sha256:d85fcec01c69ba8646733a4ca54b851b40385c508d57f7eaf57c75c9d978ad7c', 'ResolutionTime': datetime.datetime(2024, 11, 20, 12, 57, 38, 116000, tzinfo=tzlocal())}], 'CurrentWeight': 1.0, 'DesiredWeight': 1.0, 'CurrentInstanceCount': 1, 'DesiredInstanceCount': 1}], 'EndpointStatus': 'InService', 'CreationTime': datetime.datetime(2024, 11, 20, 12, 57, 37, 647000, tzinfo=tzlocal()), 'LastModifiedTime': datetime.datetime(2024, 11, 20, 13, 0, 32, 338000, tzinfo=tzlocal()), 'ResponseMetadata': {'RequestId': 'cd5537f8-4323-48a4-96cc-e7ea1f03ddf8', 'HTTPStatusCode': 200, 'HTTPHeaders': {'x-amzn-requestid': 'cd5537f8-4323-48a4-96cc-e7ea1f03ddf8', 'content-type': 'application/x-amz-json-1.1', 'content-length': '817', 'date': 'Wed, 20 Nov 2024 13:05:51 GMT'}, 'RetryAttempts': 0}}\n"
     ]
    }
   ],
   "source": [
    "import boto3\n",
    "\n",
    "# Initialize SageMaker client\n",
    "sagemaker_client = boto3.client('sagemaker')\n",
    "\n",
    "# Describe the endpoint\n",
    "endpoint_name = \"sagemaker-scikit-learn-2024-11-20-12-57-37-100\"  # Replace with your endpoint name\n",
    "response = sagemaker_client.describe_endpoint(EndpointName=endpoint_name)\n",
    "\n",
    "# Print the full response\n",
    "print(response)\n"
   ]
  },
  {
   "cell_type": "code",
   "execution_count": 27,
   "id": "41cbfdf4",
   "metadata": {},
   "outputs": [
    {
     "name": "stdout",
     "output_type": "stream",
     "text": [
      "Error during prediction: 'dict' object has no attribute 'predict'\n"
     ]
    }
   ],
   "source": [
    "## To diplay errors from Cloudwatch logs\n",
    "input_data = {\n",
    "    'instances': X_test.tolist()  # Make sure this matches the format expected by the model\n",
    "}\n",
    "try:\n",
    "    # Simulate prediction locally\n",
    "    predictions = model.predict(np.array(input_data[\"instances\"]))\n",
    "    print(predictions)\n",
    "except Exception as e:\n",
    "    print(f\"Error during prediction: {e}\")\n"
   ]
  },
  {
   "cell_type": "code",
   "execution_count": 28,
   "id": "5b19c3ad",
   "metadata": {},
   "outputs": [
    {
     "name": "stdout",
     "output_type": "stream",
     "text": [
      "Endpoint sagemaker-scikit-learn-2024-11-20-12-57-37-100 deleted successfully.\n"
     ]
    }
   ],
   "source": [
    "##To delete endpoint \n",
    "import boto3\n",
    "\n",
    "# Create a SageMaker client\n",
    "sagemaker_client = boto3.client('sagemaker')\n",
    "\n",
    "# Define the endpoint name to delete\n",
    "endpoint_name = \"sagemaker-scikit-learn-2024-11-20-12-57-37-100\"# Use the endpoint name you want to delete\n",
    "\n",
    "# Delete the endpoint\n",
    "sagemaker_client.delete_endpoint(EndpointName=endpoint_name)\n",
    "\n",
    "print(f\"Endpoint {endpoint_name} deleted successfully.\")\n"
   ]
  },
  {
   "cell_type": "code",
   "execution_count": 2,
   "id": "0d68d270",
   "metadata": {},
   "outputs": [
    {
     "name": "stdout",
     "output_type": "stream",
     "text": [
      "Endpoint Name: sagemaker-scikit-learn-2024-11-20-12-29-21-695\n"
     ]
    }
   ],
   "source": [
    "# To display the existing endpoints\n",
    "import boto3\n",
    "\n",
    "# Create a SageMaker client\n",
    "sagemaker_client = boto3.client('sagemaker')\n",
    "\n",
    "# List all endpoints\n",
    "response = sagemaker_client.list_endpoints()\n",
    "\n",
    "# Get the endpoint names\n",
    "endpoints = response['Endpoints']\n",
    "\n",
    "# Print the endpoint names\n",
    "for endpoint in endpoints:\n",
    "    print(f\"Endpoint Name: {endpoint['EndpointName']}\")\n"
   ]
  },
  {
   "cell_type": "code",
   "execution_count": 29,
   "id": "012d55fe",
   "metadata": {},
   "outputs": [
    {
     "name": "stdout",
     "output_type": "stream",
     "text": [
      "Model Name: sagemaker-scikit-learn-2024-11-20-12-57-36-519\n"
     ]
    }
   ],
   "source": [
    "## To display all models present\n",
    "\n",
    "import boto3\n",
    "\n",
    "# Initialize SageMaker client\n",
    "sagemaker_client = boto3.client('sagemaker')\n",
    "\n",
    "# List all models\n",
    "models = sagemaker_client.list_models()\n",
    "for model in models['Models']:\n",
    "    print(\"Model Name:\", model['ModelName'])\n"
   ]
  },
  {
   "cell_type": "code",
   "execution_count": 30,
   "id": "cfed75d5",
   "metadata": {},
   "outputs": [
    {
     "name": "stdout",
     "output_type": "stream",
     "text": [
      "Model 'sagemaker-scikit-learn-2024-11-20-12-57-36-519' deleted successfully.\n"
     ]
    }
   ],
   "source": [
    "# Define the model names\n",
    "model_name = \"sagemaker-scikit-learn-2024-11-20-12-57-36-519\"  # Ensure no leading or trailing spaces\n",
    "\n",
    "try:\n",
    "    sagemaker_client.delete_model(ModelName=model_name)\n",
    "    print(f\"Model '{model_name}' deleted successfully.\")\n",
    "except Exception as e:\n",
    "    print(f\"Error deleting model: {e}\")\n"
   ]
  },
  {
   "cell_type": "code",
   "execution_count": null,
   "id": "4d55e658",
   "metadata": {},
   "outputs": [],
   "source": []
  },
  {
   "cell_type": "code",
   "execution_count": null,
   "id": "d5aa0bf5",
   "metadata": {},
   "outputs": [],
   "source": []
  },
  {
   "cell_type": "code",
   "execution_count": null,
   "id": "71eac96a",
   "metadata": {},
   "outputs": [],
   "source": []
  }
 ],
 "metadata": {
  "kernelspec": {
   "display_name": "conda_python3",
   "language": "python",
   "name": "conda_python3"
  },
  "language_info": {
   "codemirror_mode": {
    "name": "ipython",
    "version": 3
   },
   "file_extension": ".py",
   "mimetype": "text/x-python",
   "name": "python",
   "nbconvert_exporter": "python",
   "pygments_lexer": "ipython3",
   "version": "3.10.15"
  }
 },
 "nbformat": 4,
 "nbformat_minor": 5
}
